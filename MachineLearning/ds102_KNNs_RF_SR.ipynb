{
  "cells": [
    {
      "cell_type": "markdown",
      "metadata": {
        "id": "XO9C2NkmlNYO"
      },
      "source": [
        "# Import dependencies"
      ]
    },
    {
      "cell_type": "code",
      "execution_count": null,
      "metadata": {
        "id": "aRYHzwIejhkm"
      },
      "outputs": [],
      "source": [
        "import os\n",
        "import pandas as pd\n",
        "import numpy as np\n",
        "\n",
        "from sklearn.preprocessing import LabelEncoder\n",
        "\n",
        "from sklearn.ensemble import RandomForestClassifier\n",
        "from sklearn.neighbors import KNeighborsClassifier\n",
        "from sklearn.linear_model import LogisticRegression\n",
        "\n",
        "from sklearn.model_selection import GridSearchCV\n",
        "from sklearn.ensemble import VotingClassifier\n",
        "\n",
        "import matplotlib.pyplot as plt\n",
        "\n",
        "from sklearn.metrics import classification_report, f1_score, make_scorer"
      ]
    },
    {
      "cell_type": "code",
      "execution_count": null,
      "metadata": {
        "colab": {
          "base_uri": "https://localhost:8080/"
        },
        "id": "N1aHCzLiibZB",
        "outputId": "c3226fea-7ecc-4356-d30e-f444dc45c12c"
      },
      "outputs": [
        {
          "output_type": "stream",
          "name": "stdout",
          "text": [
            "Downloading...\n",
            "From: https://drive.google.com/uc?id=1G93DGgD2Xw58be5PNOGT8HB_YSWrWll7\n",
            "To: /content/train_data (4).csv\n",
            "100% 1.04G/1.04G [00:04<00:00, 245MB/s]\n"
          ]
        }
      ],
      "source": [
        "! gdown 1G93DGgD2Xw58be5PNOGT8HB_YSWrWll7"
      ]
    },
    {
      "cell_type": "code",
      "execution_count": null,
      "metadata": {
        "id": "P6jcauhKibZC"
      },
      "outputs": [],
      "source": [
        "! gdown 1Ku1_9Y7zQaDmYv8jdDVAtD289cIrGuon"
      ]
    },
    {
      "cell_type": "code",
      "execution_count": null,
      "metadata": {
        "id": "Vi9hcrc4ibZE"
      },
      "outputs": [],
      "source": [
        "! mv 'train_data (4).csv' 'train_data.csv'"
      ]
    },
    {
      "cell_type": "code",
      "execution_count": null,
      "metadata": {
        "id": "qQxb75wqibZG"
      },
      "outputs": [],
      "source": [
        "data = pd.read_csv('train_data.csv')"
      ]
    },
    {
      "cell_type": "code",
      "execution_count": null,
      "metadata": {
        "id": "8fH6hf-AibZH"
      },
      "outputs": [],
      "source": [
        "data_test = pd.read_csv('test_data_flatten.csv')"
      ]
    },
    {
      "cell_type": "markdown",
      "metadata": {
        "id": "t-kr7qcplzU_"
      },
      "source": [
        "## Training set"
      ]
    },
    {
      "cell_type": "code",
      "execution_count": null,
      "metadata": {
        "id": "8WVy4HJEibZI"
      },
      "outputs": [],
      "source": [
        "X_train = data.drop(columns=['Label'])\n",
        "y_train = data['Label']"
      ]
    },
    {
      "cell_type": "code",
      "execution_count": null,
      "metadata": {
        "id": "EYyREJCIibZL"
      },
      "outputs": [],
      "source": [
        "X_train = X_train.to_numpy()"
      ]
    },
    {
      "cell_type": "code",
      "execution_count": null,
      "metadata": {
        "id": "fNjpMaDsizuL"
      },
      "outputs": [],
      "source": [
        "label_encoder = LabelEncoder()\n",
        "y_train = label_encoder.fit_transform(y_train)"
      ]
    },
    {
      "cell_type": "markdown",
      "metadata": {
        "id": "n1N5yDrRl5t4"
      },
      "source": [
        "## Testing set"
      ]
    },
    {
      "cell_type": "code",
      "execution_count": null,
      "metadata": {
        "id": "XvdiwDkEl76n"
      },
      "outputs": [],
      "source": [
        "X_test = data_test.drop(columns=['Label'])\n",
        "y_test = data_test['Label']"
      ]
    },
    {
      "cell_type": "code",
      "execution_count": null,
      "metadata": {
        "id": "EXI6ldOTl_3K"
      },
      "outputs": [],
      "source": [
        "X_test = X_test.to_numpy()"
      ]
    },
    {
      "cell_type": "code",
      "execution_count": null,
      "metadata": {
        "id": "uLPXZT_1mBmg"
      },
      "outputs": [],
      "source": [
        "y_test = label_encoder.transform(y_test)"
      ]
    },
    {
      "cell_type": "code",
      "execution_count": null,
      "metadata": {
        "id": "upte2YTBQKlX"
      },
      "outputs": [],
      "source": []
    },
    {
      "cell_type": "code",
      "execution_count": null,
      "metadata": {
        "id": "J-2Qo8UoQKlX"
      },
      "outputs": [],
      "source": [
        "f1_macro = make_scorer(f1_score, average='macro')"
      ]
    },
    {
      "cell_type": "markdown",
      "metadata": {
        "id": "7iYNlrZSibZQ"
      },
      "source": [
        "# GridSearch for RFC"
      ]
    },
    {
      "cell_type": "code",
      "execution_count": null,
      "metadata": {
        "id": "HoLL65qJibZR"
      },
      "outputs": [],
      "source": [
        "RFC_parameters = {\n",
        "    'n_estimators': [100, 200, 500],\n",
        "    'max_depth': [100, 200, 500],\n",
        "    'max_features': [1000, 5000, 10000]\n",
        "}"
      ]
    },
    {
      "cell_type": "code",
      "execution_count": null,
      "metadata": {
        "id": "nUfjtj2DibZS"
      },
      "outputs": [],
      "source": [
        "RFC = RandomForestClassifier(n_jobs=-1)"
      ]
    },
    {
      "cell_type": "code",
      "execution_count": null,
      "metadata": {
        "id": "-pi3Bwp9jhkq"
      },
      "outputs": [],
      "source": [
        "RFC_GridSearch = GridSearchCV(RFC, RFC_parameters, verbose=100, scoring=f1_macro)\n",
        "RFC_GridSearch.fit(X_train, y_train)"
      ]
    },
    {
      "cell_type": "code",
      "execution_count": null,
      "metadata": {
        "id": "tlWT9giGjhkq"
      },
      "outputs": [],
      "source": [
        "best_RFC_estimator = RFC_GridSearch.best_estimator_"
      ]
    },
    {
      "cell_type": "code",
      "execution_count": null,
      "metadata": {
        "id": "25mSq_tWjhkq"
      },
      "outputs": [],
      "source": [
        "# testing\n",
        "y_pred = best_RFC_estimator.predict(X_test)\n",
        "\n",
        "report = classification_report(y_test, y_pred, target_names=label_encoder.classes_)\n",
        "\n",
        "print(report)"
      ]
    },
    {
      "cell_type": "markdown",
      "metadata": {
        "id": "0l7WadHAibZS"
      },
      "source": [
        "# GridSearch for KNN"
      ]
    },
    {
      "cell_type": "code",
      "execution_count": null,
      "metadata": {
        "id": "XxSDlJ-uibZT"
      },
      "outputs": [],
      "source": [
        "KNN_parameters = {\n",
        "    'n_neighbors': [1, 2, 3, 4, 5],\n",
        "    'p': [1, 2, 3]\n",
        "}"
      ]
    },
    {
      "cell_type": "code",
      "execution_count": null,
      "metadata": {
        "id": "9mJClHwQibZU"
      },
      "outputs": [],
      "source": [
        "KNN = KNeighborsClassifier(n_jobs=-1)"
      ]
    },
    {
      "cell_type": "code",
      "execution_count": null,
      "metadata": {
        "id": "V-wo6JAfibZU"
      },
      "outputs": [],
      "source": [
        "KNN_GridSearch = GridSearchCV(KNN, KNN_parameters, verbose=100, scoring=f1_macro)\n",
        "KNN_GridSearch.fit(X_train, y_train)"
      ]
    },
    {
      "cell_type": "code",
      "execution_count": null,
      "metadata": {
        "id": "G4IY4jknjhks"
      },
      "outputs": [],
      "source": [
        "best_KNN_estimator = KNN_GridSearch.best_estimator_"
      ]
    },
    {
      "cell_type": "code",
      "execution_count": null,
      "metadata": {
        "id": "-1YbjiUJjhks"
      },
      "outputs": [],
      "source": [
        "# testing\n",
        "y_pred = best_KNN_estimator.predict(X_test)\n",
        "\n",
        "report = classification_report(y_test, y_pred, target_names=label_encoder.classes_)\n",
        "\n",
        "print(report)"
      ]
    },
    {
      "cell_type": "markdown",
      "metadata": {
        "id": "jr6-8QNKibZV"
      },
      "source": [
        "# Sofmax Regression"
      ]
    },
    {
      "cell_type": "code",
      "execution_count": null,
      "metadata": {
        "id": "tC_1AZlzQKlZ"
      },
      "outputs": [],
      "source": [
        "SR_parameters = {\n",
        "    'max_iter': [100, 500, 1000, 5000],\n",
        "    'multi_class': ['multinomial']\n",
        "}"
      ]
    },
    {
      "cell_type": "code",
      "execution_count": null,
      "metadata": {
        "id": "QRGltyaXibZW"
      },
      "outputs": [],
      "source": [
        "SR = LogisticRegression(n_jobs=-1)"
      ]
    },
    {
      "cell_type": "code",
      "execution_count": null,
      "metadata": {
        "id": "gPfORZpGQKlZ"
      },
      "outputs": [],
      "source": [
        "SR_GridSearch = GridSearchCV(SR, SR_parameters, verbose=100, scoring=f1_macro)\n",
        "SR_GridSearch.fit(X_train, y_train)"
      ]
    },
    {
      "cell_type": "code",
      "execution_count": null,
      "metadata": {
        "id": "KFobPRBRQKlZ"
      },
      "outputs": [],
      "source": [
        "best_SR_estimator = SR_GridSearch.best_estimator_"
      ]
    },
    {
      "cell_type": "code",
      "execution_count": null,
      "metadata": {
        "id": "JIi9AZeujhks"
      },
      "outputs": [],
      "source": [
        "# testing\n",
        "y_pred = best_SR_estimator.predict(X_test)\n",
        "\n",
        "report = classification_report(y_test, y_pred, target_names=label_encoder.classes_)\n",
        "\n",
        "print(report)"
      ]
    }
  ],
  "metadata": {
    "colab": {
      "machine_shape": "hm",
      "provenance": []
    },
    "kaggle": {
      "accelerator": "nvidiaTeslaT4",
      "dataSources": [],
      "dockerImageVersionId": 30627,
      "isGpuEnabled": true,
      "isInternetEnabled": true,
      "language": "python",
      "sourceType": "notebook"
    },
    "kernelspec": {
      "display_name": "Python 3 (ipykernel)",
      "language": "python",
      "name": "python3"
    },
    "language_info": {
      "codemirror_mode": {
        "name": "ipython",
        "version": 3
      },
      "file_extension": ".py",
      "mimetype": "text/x-python",
      "name": "python",
      "nbconvert_exporter": "python",
      "pygments_lexer": "ipython3",
      "version": "3.10.13"
    }
  },
  "nbformat": 4,
  "nbformat_minor": 0
}